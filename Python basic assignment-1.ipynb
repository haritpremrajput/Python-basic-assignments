{
 "cells": [
  {
   "cell_type": "code",
   "execution_count": 1,
   "id": "058c93b3",
   "metadata": {},
   "outputs": [],
   "source": [
    "#Q.1- In the below elements which of them are values or an expression? eg:- values can be integer or string and expressions will be mathematical operators.\n",
    "\n",
    "#*\n",
    "#hello\n",
    "#-87.8\n",
    "#-\n",
    "#/\n",
    "#+\n",
    "#6\n",
    "\n",
    "#Solution- \n",
    "\n",
    "#From the above elements '*', '-', '/', '+' are expressions and 'hello', '-87.8', '6' are values"
   ]
  },
  {
   "cell_type": "code",
   "execution_count": 3,
   "id": "a74c467f",
   "metadata": {},
   "outputs": [],
   "source": [
    "#Q.2- What is the difference between string and variable?\n",
    "\n",
    "#Solution- -> A VARIABLE is basically the name of the location in the primary memory of your computer.\n",
    "#          -> A variable can store everything from strings to numbers.\n",
    "#             This can be chosen by us.\n",
    "\n",
    "#          -> A STRING is a type of variable.\n",
    "#          -> Variables can be of several types like integer, floating point, string, boolean.\n",
    "\n",
    "#          -> A simple EXAMPLE would be:\n",
    "#              a = 1 \n",
    "#              name = \"Bob\" \n",
    "#              rich = True \n",
    "#              In the code example we have an integer, string and boolean. All of these are variables.\n",
    "#              String is just a type of variable."
   ]
  },
  {
   "cell_type": "code",
   "execution_count": 4,
   "id": "8c22dbf1",
   "metadata": {},
   "outputs": [],
   "source": [
    "#Q.3- Describe three different data types.\n",
    "\n",
    "#Solution- INTEGER (int) -> It is the most common data type used to store numbers without a fractional component.\n",
    "#          Ex. (-707, 0, 707).\n",
    "\n",
    "#          FLOATING POINT (float) -> It is also a data type used to store numbers but it can have a fractional component.\n",
    "#          Ex. (707.07, 0.7, 707.00).\n",
    "\n",
    "#          CHARACTER (char) -> It is used to store a single letter, digit, punctuation mark, symbol, or blank space.\n",
    "#          Ex. (a,s,?,$)"
   ]
  },
  {
   "cell_type": "code",
   "execution_count": 5,
   "id": "c76d9f33",
   "metadata": {},
   "outputs": [],
   "source": [
    "#Q.4- What is an expression made up of? What do all expressions do?\n",
    "\n",
    "#Solution- -> An expression is a combination of values, variables, operators, and calls to functions. \n",
    "#          -> Expressions need to be evaluated.\n",
    "#          -> If you ask Python to print an expression, the interpreter evaluates the expression and displays the result."
   ]
  },
  {
   "cell_type": "code",
   "execution_count": 1,
   "id": "660f1080",
   "metadata": {},
   "outputs": [],
   "source": [
    "#Q.5- This assignment statements, like spam = 10. What is the difference between an expression and a statement?\n",
    "\n",
    "#Solution- -> A STATEMENT is an instruction that the Python interpreter can execute.\n",
    "#          -> Ex. (while statements, for statements, if statements, and import statements).\n",
    "\n",
    "\n",
    "#          -> An EXPRESSION is a combination of values, variables, operators, and calls to functions.\n",
    "#          -> Expressions need to be evaluated. If you ask Python to print an expression, the interpreter evaluates the expression and displays the result.\n",
    "#          -> Ex. (x = 15 + 1.3)"
   ]
  },
  {
   "cell_type": "code",
   "execution_count": 1,
   "id": "0d68e146",
   "metadata": {},
   "outputs": [
    {
     "data": {
      "text/plain": [
       "22"
      ]
     },
     "execution_count": 1,
     "metadata": {},
     "output_type": "execute_result"
    }
   ],
   "source": [
    "#Q.6- After running the following code, what does the variable bacon contain?\n",
    "#bacon = 22\n",
    "#bacon + 1\n",
    "\n",
    "#Solution- 'bacon' will contain value '22'\n",
    "\n",
    "bacon = 22\n",
    "bacon + 1\n",
    "\n",
    "bacon"
   ]
  },
  {
   "cell_type": "code",
   "execution_count": 3,
   "id": "1f9f6db4",
   "metadata": {},
   "outputs": [
    {
     "data": {
      "text/plain": [
       "('spamspamspam', 'spamspamspam')"
      ]
     },
     "execution_count": 3,
     "metadata": {},
     "output_type": "execute_result"
    }
   ],
   "source": [
    "#Q.7- What should the values of the following two terms be?\n",
    "#'spam' + 'spamspam'\n",
    "#'spam' * 3\n",
    "\n",
    "#Solution- The values of the above two terms would be same i.e. spamspamspam\n",
    "\n",
    "a='spam' + 'spamspam'\n",
    "b='spam' * 3\n",
    "a,b"
   ]
  },
  {
   "cell_type": "code",
   "execution_count": 4,
   "id": "d6a12891",
   "metadata": {},
   "outputs": [],
   "source": [
    "#Q.8- Why is eggs a valid variable name while 100 is invalid?\n",
    "\n",
    "#Solution- Because variable names cannot start with a number. It should always start with an alphabet."
   ]
  },
  {
   "cell_type": "code",
   "execution_count": 5,
   "id": "9cc7af46",
   "metadata": {},
   "outputs": [],
   "source": [
    "#Q.9- What three functions can be used to get the integer, floating-point number, or string version of a value?\n",
    "\n",
    "#Solution- int(), float(), str()"
   ]
  },
  {
   "cell_type": "code",
   "execution_count": 6,
   "id": "10f8a0f5",
   "metadata": {},
   "outputs": [],
   "source": [
    "#Q.10- Why does this expression cause an error? How can you fix it?\n",
    "#'I have eaten' + 99 + 'burritos'\n",
    "\n",
    "#Solution- This gives an error because Python cannot concatenate string to integer. It can concatenate string to string only."
   ]
  },
  {
   "cell_type": "code",
   "execution_count": null,
   "id": "a930c7a4",
   "metadata": {},
   "outputs": [],
   "source": []
  }
 ],
 "metadata": {
  "kernelspec": {
   "display_name": "Python 3",
   "language": "python",
   "name": "python3"
  },
  "language_info": {
   "codemirror_mode": {
    "name": "ipython",
    "version": 3
   },
   "file_extension": ".py",
   "mimetype": "text/x-python",
   "name": "python",
   "nbconvert_exporter": "python",
   "pygments_lexer": "ipython3",
   "version": "3.8.8"
  }
 },
 "nbformat": 4,
 "nbformat_minor": 5
}
