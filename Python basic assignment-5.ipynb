{
 "cells": [
  {
   "cell_type": "code",
   "execution_count": 1,
   "id": "7776f0df",
   "metadata": {},
   "outputs": [],
   "source": [
    "#Q.1- What does an empty dictionary's code look like?\n",
    "\n",
    "#Solution- An empty dictionary's code look like {} i.e. two curly brackets.\n",
    "#          Ex. car={}"
   ]
  },
  {
   "cell_type": "code",
   "execution_count": 2,
   "id": "69e792b9",
   "metadata": {},
   "outputs": [],
   "source": [
    "#Q.2- What is the value of a dictionary value with the key 'foo' and the value 42?\n",
    "\n",
    "#Solution- If {'foo': 42} is a dictionary value, then its key is 'foo' and it's value would be 42."
   ]
  },
  {
   "cell_type": "code",
   "execution_count": 3,
   "id": "a86a12ac",
   "metadata": {},
   "outputs": [],
   "source": [
    "#Q.3- What is the most significant distinction between a dictionary and a list?\n",
    "\n",
    "#Solution- The items stored in a dictionary are unordered, whereas the items in a list are ordered."
   ]
  },
  {
   "cell_type": "code",
   "execution_count": 5,
   "id": "64803e87",
   "metadata": {},
   "outputs": [
    {
     "ename": "KeyError",
     "evalue": "'foo'",
     "output_type": "error",
     "traceback": [
      "\u001b[1;31m---------------------------------------------------------------------------\u001b[0m",
      "\u001b[1;31mKeyError\u001b[0m                                  Traceback (most recent call last)",
      "\u001b[1;32m<ipython-input-5-e0ca02513dce>\u001b[0m in \u001b[0;36m<module>\u001b[1;34m\u001b[0m\n\u001b[0;32m      4\u001b[0m \u001b[1;31m#          named as 'foo' in the given dictionary.\u001b[0m\u001b[1;33m\u001b[0m\u001b[1;33m\u001b[0m\u001b[1;33m\u001b[0m\u001b[0m\n\u001b[0;32m      5\u001b[0m \u001b[0mspam\u001b[0m\u001b[1;33m=\u001b[0m\u001b[1;33m{\u001b[0m\u001b[1;34m'bar'\u001b[0m\u001b[1;33m:\u001b[0m \u001b[1;36m100\u001b[0m\u001b[1;33m}\u001b[0m\u001b[1;33m\u001b[0m\u001b[1;33m\u001b[0m\u001b[0m\n\u001b[1;32m----> 6\u001b[1;33m \u001b[0mspam\u001b[0m\u001b[1;33m[\u001b[0m\u001b[1;34m'foo'\u001b[0m\u001b[1;33m]\u001b[0m\u001b[1;33m\u001b[0m\u001b[1;33m\u001b[0m\u001b[0m\n\u001b[0m",
      "\u001b[1;31mKeyError\u001b[0m: 'foo'"
     ]
    }
   ],
   "source": [
    "#Q.4- What happens if you try to access spam['foo'] if spam is {'bar': 100}?\n",
    "\n",
    "#Solution- If spam is {'bar': 100}, and if we try to access spam['foo'], then we get a KeyError  because there is no key\n",
    "#          named as 'foo' in the given dictionary.\n",
    "spam={'bar': 100}\n",
    "spam['foo']"
   ]
  },
  {
   "cell_type": "code",
   "execution_count": 6,
   "id": "40d964f2",
   "metadata": {},
   "outputs": [],
   "source": [
    "#Q.5- If a dictionary is stored in spam, what is the difference between the expressions'cat' in spam and 'cat' in spam.keys()?\n",
    "\n",
    "#Solution- There is no difference. The in operator checks whether a value exists as a key in the dictionary."
   ]
  },
  {
   "cell_type": "code",
   "execution_count": 7,
   "id": "5734acca",
   "metadata": {},
   "outputs": [],
   "source": [
    "#Q.6- If a dictionary is stored in spam, what is the difference between the expressions 'cat' in spam and 'cat' in spam.values()?\n",
    "\n",
    "#Solution- 'cat' in spam checks whether there is a 'cat' key in the dictionary,\n",
    "#            while 'cat' in spam.values() checks whether there is a value 'cat' for one of the keys in spam."
   ]
  },
  {
   "cell_type": "code",
   "execution_count": 8,
   "id": "cec69340",
   "metadata": {},
   "outputs": [],
   "source": [
    "#Q.7- What is a shortcut for the following code?\n",
    "#    if 'color' not in spam:\n",
    "#      spam['color'] = 'black'\n",
    "\n",
    "#Solution- spam.setdefault('color', 'black')"
   ]
  },
  {
   "cell_type": "code",
   "execution_count": 10,
   "id": "a9412d6b",
   "metadata": {},
   "outputs": [],
   "source": [
    "#Q.8- How do you \"pretty print\" dictionary values using which module and function?\n",
    "\n",
    "#Solution- pprint is a Python module that provides the capability to pretty print Python data types to be more readable.\n",
    "#          We can \"pretty print\" dictionary values by importing pprint module and then using inbulit pprint() function as-\n",
    "#           import pprint\n",
    "#            pprint.pprint()"
   ]
  },
  {
   "cell_type": "code",
   "execution_count": null,
   "id": "b9abdf16",
   "metadata": {},
   "outputs": [],
   "source": []
  }
 ],
 "metadata": {
  "kernelspec": {
   "display_name": "Python 3",
   "language": "python",
   "name": "python3"
  },
  "language_info": {
   "codemirror_mode": {
    "name": "ipython",
    "version": 3
   },
   "file_extension": ".py",
   "mimetype": "text/x-python",
   "name": "python",
   "nbconvert_exporter": "python",
   "pygments_lexer": "ipython3",
   "version": "3.8.8"
  }
 },
 "nbformat": 4,
 "nbformat_minor": 5
}
