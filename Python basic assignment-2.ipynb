{
 "cells": [
  {
   "cell_type": "code",
   "execution_count": 9,
   "id": "cb73f891",
   "metadata": {},
   "outputs": [],
   "source": [
    "#Q.1- What are the two values of the Boolean data type? How do you write them?\n",
    "\n",
    "#Solution- The two values of Boolean data type are 'True' and 'False.' \n",
    "#          We write them with first sentence case (i.e. True, False)"
   ]
  },
  {
   "cell_type": "code",
   "execution_count": 10,
   "id": "16a19991",
   "metadata": {},
   "outputs": [],
   "source": [
    "#Q.2- What are the three different types of Boolean operators?\n",
    "\n",
    "#Solution- The three different types of Boolean operators are 'NOT','OR' and 'AND.'"
   ]
  },
  {
   "cell_type": "code",
   "execution_count": 11,
   "id": "a3e58ad0",
   "metadata": {},
   "outputs": [],
   "source": [
    "#Q.3- Make a list of each Boolean operator's truth tables (i.e. every possible combination of Boolean values for the operator and what it evaluate ).\n",
    "\n",
    "#Solution- 'OR' Table\n",
    "\n",
    "#        A       B     A OR B\n",
    "#       True    True    True\n",
    "#       True    False   True\n",
    "#       False   True    True\n",
    "#       False   False   False\n",
    "\n",
    "\n",
    "#           'AND' Table\n",
    "\n",
    "#        A       B     A and B\n",
    "#       True    True    True\n",
    "#       True    False   False\n",
    "#       False   True    False\n",
    "#       False   False   False\n",
    "\n",
    "#            'NOT' Table\n",
    "\n",
    "#        A       Not A\n",
    "#       True     False\n",
    "#       False    True\n"
   ]
  },
  {
   "cell_type": "code",
   "execution_count": 12,
   "id": "1d081d05",
   "metadata": {},
   "outputs": [],
   "source": [
    "#Q.4- What are the values of the following expressions?\n",
    "# (5 > 4) and (3 == 5)\n",
    "# not (5 > 4)\n",
    "# (5 > 4) or (3 == 5)\n",
    "# not ((5 > 4) or (3 == 5))\n",
    "# (True and True) and (True == False)\n",
    "# (not False) or (not True)\n",
    "\n",
    "#Solution-  (5 > 4) and (3 == 5)                 ---->  False\n",
    "#           not (5 > 4)                          ---->  False\n",
    "#           (5 > 4) or (3 == 5)                  ---->  True\n",
    "#           not ((5 > 4) or (3 == 5))            ---->  False\n",
    "#           (True and True) and (True == False)  ---->  False\n",
    "#           (not False) or (not True)            ---->  True"
   ]
  },
  {
   "cell_type": "code",
   "execution_count": 13,
   "id": "c8599260",
   "metadata": {},
   "outputs": [],
   "source": [
    "#Q.5- What are the six comparison operators?\n",
    "\n",
    "#Solution- Python has six comparison operators, which are as follows:\n",
    "\n",
    "#        -> Less than ( < )\n",
    "#        -> Less than or equal to (<=)\n",
    "#        -> Greater than (>)\n",
    "#        -> Greater than or equal to (>=)\n",
    "#        -> Equal to ( == )\n",
    "#        -> Not equal to ( != )"
   ]
  },
  {
   "cell_type": "code",
   "execution_count": 14,
   "id": "a42e3826",
   "metadata": {},
   "outputs": [],
   "source": [
    "#Q.6- How do you tell the difference between the equal to and assignment operators? Describe a condition and when you would use one.\n",
    "\n",
    "#Solution- The “=” is an assignment operator which is used to stores a value in a variable..\n",
    "#          Ex.- a = 10; ch = 'y'\n",
    "\n",
    "#          The ‘==’, equal to operator, compares two values and evaluates whether they are equal or not. If so, it returns true. Otherwise it returns false.\n",
    "#          Ex.- 5==5, This will return true."
   ]
  },
  {
   "cell_type": "code",
   "execution_count": 15,
   "id": "096767bb",
   "metadata": {},
   "outputs": [
    {
     "name": "stdout",
     "output_type": "stream",
     "text": [
      "spam\n"
     ]
    }
   ],
   "source": [
    "#Q.7- Identify the three blocks in this code:\n",
    "#spam = 0\n",
    "#if spam == 10:\n",
    "#print('eggs')\n",
    "#if spam > 5:\n",
    "#print('bacon')\n",
    "#else:\n",
    "#print('ham')\n",
    "#print('spam')\n",
    "#print('spam')\n",
    "\n",
    "#Solution- \n",
    "\n",
    "spam = 0\n",
    "if spam == 10:\n",
    "    print('eggs')        # block 1 starts\n",
    "    if spam > 5:         \n",
    "        print('bacon')   # block 2 inside block 1\n",
    "    else:                # block 2 ended in line above\n",
    "        print('ham')     # block 3 inside block 1\n",
    "    print('spam')        # block 3 ended in line above\n",
    "print('spam')            # block 1 ended in line above"
   ]
  },
  {
   "cell_type": "code",
   "execution_count": 16,
   "id": "27b7b96a",
   "metadata": {},
   "outputs": [
    {
     "name": "stdout",
     "output_type": "stream",
     "text": [
      "Enter the number to be stored in spam\t4\n",
      "Greetings!\n"
     ]
    }
   ],
   "source": [
    "#Q.8- Write code that prints Hello if 1 is stored in spam, prints Howdy if 2 is stored in spam, and prints Greetings! if anything else is stored in spam.\n",
    "\n",
    "#Solution- \n",
    "try:\n",
    "    spam= int(input(\"Enter the number to be stored in spam\\t\"))\n",
    "    if (spam==1):\n",
    "        print (\"Hello\")\n",
    "    elif (spam==2):\n",
    "        print (\"Howdy\")\n",
    "    else:\n",
    "        print (\"Greetings!\")\n",
    "        \n",
    "except Exception as e:\n",
    "    print (str(e))"
   ]
  },
  {
   "cell_type": "code",
   "execution_count": 17,
   "id": "5c13d931",
   "metadata": {},
   "outputs": [],
   "source": [
    "#Q.9- If your programme is stuck in an endless loop, what keys you’ll press?\n",
    "\n",
    "#Solution- We have to press 'Ctrl + C' to stop the infinite loop"
   ]
  },
  {
   "cell_type": "code",
   "execution_count": 18,
   "id": "474963f6",
   "metadata": {},
   "outputs": [],
   "source": [
    "#Q.10- How can you tell the difference between break and continue?\n",
    "\n",
    "#Solution- The BREAK statement is used to terminate the execution of the statements and iteration of the loop. \n",
    "#          It will move to the next statement after the loop and continue for different purposes.\n",
    "#          whereas The CONTINUE statement used to skip the code inside loop for the current iteration.\n",
    "#          The loops do not terminate but continuously goes on with the next iteration."
   ]
  },
  {
   "cell_type": "code",
   "execution_count": 19,
   "id": "d6fb7a1d",
   "metadata": {},
   "outputs": [],
   "source": [
    "#Q.11- In a for loop, what is the difference between range(10), range(0, 10), and range(0, 10, 1)?\n",
    "\n",
    "#Solution- 'range()' function generally takes three arguments namely '(start,stop,step).'\n",
    "#           If two arguments are given then it takes '(start,stop)' and the default step size is 1.\n",
    "#           If only one argument is given then it takes '(stop)' and the default start is 0 and default step size is 1.\n",
    "#           So, it is clear that all the three given functions having given different number of arguments will start from 0 and stops at 9 with the step size of 1."
   ]
  },
  {
   "cell_type": "code",
   "execution_count": 20,
   "id": "f8672b3e",
   "metadata": {},
   "outputs": [
    {
     "name": "stdout",
     "output_type": "stream",
     "text": [
      "1\n",
      "2\n",
      "3\n",
      "4\n",
      "5\n",
      "6\n",
      "7\n",
      "8\n",
      "9\n",
      "10\n",
      "1\n",
      "2\n",
      "3\n",
      "4\n",
      "5\n",
      "6\n",
      "7\n",
      "8\n",
      "9\n",
      "10\n"
     ]
    }
   ],
   "source": [
    "#Q.12- Write a short program that prints the numbers 1 to 10 using a for loop. Then write an equivalent program that prints the numbers 1 to 10 using a while loop.\n",
    "\n",
    "#Solution- \n",
    "\n",
    "#(Using for loop)\n",
    "\n",
    "for i in range (1,11):\n",
    "    print (i)\n",
    "\n",
    "    \n",
    "#(Using while loop)    \n",
    "    \n",
    "i=1\n",
    "while (i<=10):\n",
    "    print (i)\n",
    "    i+=1"
   ]
  },
  {
   "cell_type": "code",
   "execution_count": 21,
   "id": "ef5cf160",
   "metadata": {},
   "outputs": [],
   "source": [
    "#Q.13- If you had a function named bacon() inside a module named spam, how would you call it after importing spam?\n",
    "\n",
    "#Solution- This function can be called with 'spam.bacon()'"
   ]
  },
  {
   "cell_type": "code",
   "execution_count": null,
   "id": "50692a6a",
   "metadata": {},
   "outputs": [],
   "source": []
  }
 ],
 "metadata": {
  "kernelspec": {
   "display_name": "Python 3",
   "language": "python",
   "name": "python3"
  },
  "language_info": {
   "codemirror_mode": {
    "name": "ipython",
    "version": 3
   },
   "file_extension": ".py",
   "mimetype": "text/x-python",
   "name": "python",
   "nbconvert_exporter": "python",
   "pygments_lexer": "ipython3",
   "version": "3.8.8"
  }
 },
 "nbformat": 4,
 "nbformat_minor": 5
}
