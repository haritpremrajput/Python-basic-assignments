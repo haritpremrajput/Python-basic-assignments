{
 "cells": [
  {
   "cell_type": "code",
   "execution_count": 2,
   "id": "9d84e8ec",
   "metadata": {},
   "outputs": [],
   "source": [
    "#Q.1- Why are functions advantageous to have in your programs?\n",
    "\n",
    "#Solution- 1. It helps to divide the large programs into small groups so that we can read the code, and debug the program faster and better.\n",
    "#          2. Python Functions stop us from writing the same logic various times. We can bind the logic in one def and then call the same over and over.\n",
    "#          3. It encourages us to call the same method with different inputs over multiple times."
   ]
  },
  {
   "cell_type": "code",
   "execution_count": 3,
   "id": "71536797",
   "metadata": {},
   "outputs": [],
   "source": [
    "#Q.2- When does the code in a function run: when it's specified or when it's called?\n",
    "\n",
    "#Solution- The code in a function run when the function is called, not when the function is specified or defined."
   ]
  },
  {
   "cell_type": "code",
   "execution_count": 4,
   "id": "97c39985",
   "metadata": {},
   "outputs": [],
   "source": [
    "#Q.3- What statement creates a function?\n",
    "\n",
    "#Solution- A function is created with the def keyword. The statements in the block of the function must be indented.\n",
    "#          The def keyword is followed by the function name with round brackets and a colon.\n",
    "#          Ex- def (factorial):"
   ]
  },
  {
   "cell_type": "code",
   "execution_count": 5,
   "id": "a55bd357",
   "metadata": {},
   "outputs": [],
   "source": [
    "#Q.4- What is the difference between a function and a function call?\n",
    "\n",
    "#Solution- A function consists of the def statement and the code in its def clause.\n",
    "#          A function call is what moves the program execution into the function, and the function call evaluates to the function's return value."
   ]
  },
  {
   "cell_type": "code",
   "execution_count": 6,
   "id": "9f6cbefb",
   "metadata": {},
   "outputs": [],
   "source": [
    "#Q.5- How many global scopes are there in a Python program? How many local scopes?\n",
    "\n",
    "#Solution- There's only one global and local Python scope per program execution.\n",
    "#          This scope remains in existence until the program terminates and all its names are forgotten.\n",
    "#          A local scope is created whenever a function is called."
   ]
  },
  {
   "cell_type": "code",
   "execution_count": 7,
   "id": "a7286feb",
   "metadata": {},
   "outputs": [],
   "source": [
    "#Q.6- What happens to variables in a local scope when the function call returns?\n",
    "\n",
    "#Solution- When a function returns, the local scope is destroyed, and all the variables in it are forgotten."
   ]
  },
  {
   "cell_type": "code",
   "execution_count": 8,
   "id": "7dd2d359",
   "metadata": {},
   "outputs": [],
   "source": [
    "#Q.7- What is the concept of a return value? Is it possible to have a return value in an expression?\n",
    "\n",
    "#Solution- A return value is the value that a function call evaluates to.\n",
    "#          Yes, a return value can be used as part of an expression."
   ]
  },
  {
   "cell_type": "code",
   "execution_count": 9,
   "id": "af3630d2",
   "metadata": {},
   "outputs": [],
   "source": [
    "#Q.8- If a function does not have a return statement, what is the return value of a call to that function?\n",
    "\n",
    "#Solution- If a function does not have a return statement, its return value is None."
   ]
  },
  {
   "cell_type": "code",
   "execution_count": 10,
   "id": "6686981a",
   "metadata": {},
   "outputs": [],
   "source": [
    "#Q.9- How do you make a function variable refer to the global variable?\n",
    "\n",
    "#Solution- we can make a function variable refer to the global variable by using a 'global' statement. It will force\n",
    "#          a variable in a function to refer to the global variable.\n",
    "#          Ex- global num"
   ]
  },
  {
   "cell_type": "code",
   "execution_count": 11,
   "id": "3beef64b",
   "metadata": {},
   "outputs": [],
   "source": [
    "#Q.10- What is the data type of None?\n",
    "\n",
    "#Solution- The data type of None is NoneType."
   ]
  },
  {
   "cell_type": "code",
   "execution_count": 12,
   "id": "8fac6860",
   "metadata": {},
   "outputs": [],
   "source": [
    "#Q.11- What does the sentence import areallyourpetsnamederic do?\n",
    "\n",
    "#Solution- This import statement imports a module named areallyourpetsnamederic if it is present in python else will give\n",
    "#          error          "
   ]
  },
  {
   "cell_type": "code",
   "execution_count": 13,
   "id": "9f88332b",
   "metadata": {},
   "outputs": [],
   "source": [
    "#Q.12- If you had a bacon() feature in a spam module, what would you call it after importing spam?\n",
    "\n",
    "#Solution- spam.bacon()"
   ]
  },
  {
   "cell_type": "code",
   "execution_count": 14,
   "id": "250c9301",
   "metadata": {},
   "outputs": [],
   "source": [
    "#Q.13- What can you do to save a programme from crashing if it encounters an error?\n",
    "\n",
    "#Solution- We can use 'try' clause in order to save our programme from crashing if it encounters an error."
   ]
  },
  {
   "cell_type": "code",
   "execution_count": 15,
   "id": "17b5df87",
   "metadata": {},
   "outputs": [],
   "source": [
    "#Q.14- What is the purpose of the try clause? What is the purpose of the except clause?\n",
    "\n",
    "#Solution- In the try clause, all statements are executed until an exception is encountered. The code that could potentially\n",
    "#          cause an error is placed under try clause.\n",
    "#          except clause is used to catch and handle the exceptions that are encountered in the try clause."
   ]
  }
 ],
 "metadata": {
  "kernelspec": {
   "display_name": "Python 3",
   "language": "python",
   "name": "python3"
  },
  "language_info": {
   "codemirror_mode": {
    "name": "ipython",
    "version": 3
   },
   "file_extension": ".py",
   "mimetype": "text/x-python",
   "name": "python",
   "nbconvert_exporter": "python",
   "pygments_lexer": "ipython3",
   "version": "3.8.8"
  }
 },
 "nbformat": 4,
 "nbformat_minor": 5
}
