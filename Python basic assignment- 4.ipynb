{
 "cells": [
  {
   "cell_type": "code",
   "execution_count": 1,
   "id": "f19f7b8a",
   "metadata": {},
   "outputs": [],
   "source": [
    "#Q.1- What exactly is []?\n",
    "\n",
    "#Solution- [] is an empty list that contains no elements in it."
   ]
  },
  {
   "cell_type": "code",
   "execution_count": 2,
   "id": "5dd41b57",
   "metadata": {},
   "outputs": [
    {
     "name": "stdout",
     "output_type": "stream",
     "text": [
      "Before assigning:- [2, 4, 6, 8, 10]\n",
      "After assigning:- [2, 4, 'hello', 8, 10]\n"
     ]
    }
   ],
   "source": [
    "#Q.2- In a list of values stored in a variable called spam, how would you assign the value 'hello' as the\n",
    "#     third value? (Assume [2, 4, 6, 8, 10] are in spam.)\n",
    "\n",
    "#Solution- \n",
    "\n",
    "spam = [2, 4, 6, 8, 10]\n",
    "print ('Before assigning:-',spam)\n",
    "spam[2]='hello'\n",
    "print ('After assigning:-',spam)"
   ]
  },
  {
   "cell_type": "code",
   "execution_count": 5,
   "id": "0acadff9",
   "metadata": {},
   "outputs": [],
   "source": [
    "# Let's pretend the spam includes the list ['a', 'b', 'c', 'd'] for the next three queries.\n",
    "spam=['a','b','c','d']"
   ]
  },
  {
   "cell_type": "code",
   "execution_count": 6,
   "id": "a765774d",
   "metadata": {},
   "outputs": [
    {
     "data": {
      "text/plain": [
       "'d'"
      ]
     },
     "execution_count": 6,
     "metadata": {},
     "output_type": "execute_result"
    }
   ],
   "source": [
    "#Q.3- What is the value of spam[int(int('3' * 2) / 11)]?\n",
    "\n",
    "#Solution- The value will be 'd'\n",
    "\n",
    "spam[int(int('3' * 2) / 11)]"
   ]
  },
  {
   "cell_type": "code",
   "execution_count": 7,
   "id": "bf44eaf3",
   "metadata": {},
   "outputs": [
    {
     "data": {
      "text/plain": [
       "'d'"
      ]
     },
     "execution_count": 7,
     "metadata": {},
     "output_type": "execute_result"
    }
   ],
   "source": [
    "#Q.4- What is the value of spam[-1]?\n",
    "\n",
    "#Solution- The value will be 'd'\n",
    "\n",
    "spam[-1]"
   ]
  },
  {
   "cell_type": "code",
   "execution_count": 8,
   "id": "129ac751",
   "metadata": {},
   "outputs": [
    {
     "data": {
      "text/plain": [
       "['a', 'b']"
      ]
     },
     "execution_count": 8,
     "metadata": {},
     "output_type": "execute_result"
    }
   ],
   "source": [
    "#Q.5- What is the value of spam[:2]?\n",
    "\n",
    "#Solution- The value will be ['a','b']\n",
    "\n",
    "spam[:2]"
   ]
  },
  {
   "cell_type": "code",
   "execution_count": 10,
   "id": "a1c52519",
   "metadata": {},
   "outputs": [],
   "source": [
    "# Let's pretend bacon has the list [3.14, 'cat,' 11,'cat,' True] for the next three questions.\n",
    "\n",
    "bacon=[3.14, 'cat', 11,'cat', True]"
   ]
  },
  {
   "cell_type": "code",
   "execution_count": 11,
   "id": "3c615d5e",
   "metadata": {},
   "outputs": [
    {
     "data": {
      "text/plain": [
       "1"
      ]
     },
     "execution_count": 11,
     "metadata": {},
     "output_type": "execute_result"
    }
   ],
   "source": [
    "#Q.6- What is the value of bacon.index('cat')?\n",
    "\n",
    "#Solution- The value of bacon.index('cat') is '1'\n",
    "\n",
    "bacon.index('cat')"
   ]
  },
  {
   "cell_type": "code",
   "execution_count": 12,
   "id": "e9bf3262",
   "metadata": {},
   "outputs": [
    {
     "name": "stdout",
     "output_type": "stream",
     "text": [
      "[3.14, 'cat', 11, 'cat', True, 99]\n"
     ]
    }
   ],
   "source": [
    "#Q.7- How does bacon.append(99) change the look of the list value in bacon?\n",
    "\n",
    "#Solution- It will append the value '99' to the end of the list.\n",
    "\n",
    "bacon.append(99)\n",
    "print (bacon)"
   ]
  },
  {
   "cell_type": "code",
   "execution_count": 13,
   "id": "6108837a",
   "metadata": {},
   "outputs": [
    {
     "name": "stdout",
     "output_type": "stream",
     "text": [
      "[3.14, 11, 'cat', True, 99]\n"
     ]
    }
   ],
   "source": [
    "#Q.8- How does bacon.remove('cat') change the look of the list in bacon?\n",
    "\n",
    "#Solution- It will remove the first occurence of the string 'cat' from the list.\n",
    "\n",
    "bacon.remove('cat')\n",
    "print (bacon)"
   ]
  },
  {
   "cell_type": "code",
   "execution_count": 14,
   "id": "4bc97f91",
   "metadata": {},
   "outputs": [],
   "source": [
    "#Q.9- What are the list concatenation and list replication operators?\n",
    "\n",
    "#Solution- The list concatenation operator is ''+' , while operator for list replication is '*'"
   ]
  },
  {
   "cell_type": "code",
   "execution_count": 15,
   "id": "b94f4ba4",
   "metadata": {},
   "outputs": [],
   "source": [
    "#Q.10- What is difference between the list methods append() and insert()?\n",
    "\n",
    "#Solution- 'append()' is used to insert the element to the last/end of the list.\n",
    "#              Ex. bacon.append('a') -- This will add 'a' at the last of the list 'bacon'\n",
    "#          'insert()' is used to insert the element at any position.\n",
    "#              Ex. bacon.insert(3,'Hr')-- This will add 'Hr' at the 3rd position of the list."
   ]
  },
  {
   "cell_type": "code",
   "execution_count": 16,
   "id": "c09d7b52",
   "metadata": {},
   "outputs": [],
   "source": [
    "#Q.11- What are the two methods for removing items from a list?\n",
    "\n",
    "#Solution- Following are the two methods for removing items from a list:\n",
    "\n",
    "#(a) The remove() list method can be used to remove an item from a list by providing the value of the item as input.\n",
    "\n",
    "#(b) The pop() method removes an element from the list based on the index given."
   ]
  },
  {
   "cell_type": "code",
   "execution_count": 17,
   "id": "ae78d8ab",
   "metadata": {},
   "outputs": [],
   "source": [
    "#Q.12- Describe how list values and string values are identical.\n",
    "\n",
    "#Solution- The similarity between Lists and Strings in Python are-\n",
    "#            a.) both are sequences\n",
    "#            b.) both have indexes and slices\n",
    "#            c.) can be used in 'for' loops\n",
    "#            d.) can be concatenated or replicated\n",
    "#            e.) can be used with the 'in' and 'not in' operators."
   ]
  },
  {
   "cell_type": "code",
   "execution_count": 19,
   "id": "cc4fc64f",
   "metadata": {},
   "outputs": [],
   "source": [
    "#Q.13- What's the difference between tuples and lists?\n",
    "\n",
    "#Solution- \n",
    "\n",
    "#                 List                                                                  Tuple\n",
    "\n",
    "#  It is mutable                                                    It is immutable\n",
    "#  The implication of iterations is time-consuming in the list      Implications of iterations are much faster in tuples.\n",
    "#  Operations like insertion and deletion are better performed      Operations like insertion and deletion cannot be performed\n",
    "#  Consumes more memory                                             Consumes less memory.\n",
    "#  Many built-in methods are available                              Does not have many built-in methods.\n",
    "#  Unexpected errors and changes can easily occur in lists          Unexpected errors and changes rarely occur in tuples."
   ]
  },
  {
   "cell_type": "code",
   "execution_count": 20,
   "id": "edf2fe91",
   "metadata": {},
   "outputs": [],
   "source": [
    "#Q.14- How do you type a tuple value that only contains the integer 42?\n",
    "\n",
    "#Solution- To type a tuple value that only contains the integer 42, the trailing comma is compulsory.\n",
    "#          Ex. apple(\"42\",)"
   ]
  },
  {
   "cell_type": "code",
   "execution_count": 21,
   "id": "5c3367a3",
   "metadata": {},
   "outputs": [],
   "source": [
    "#Q.15- How do you get a list value's tuple form? How do you get a tuple value's list form?\n",
    "\n",
    "#Solution- To get a list value's tuple form we can use the inbuilt 'tuple()' function.\n",
    "#            Ex. apple=tuple(apple)\n",
    "\n",
    "#          To get a tuple value's list form we can use the inbuilt 'list()' function.\n",
    "#            Ex. apple=[apple]"
   ]
  },
  {
   "cell_type": "code",
   "execution_count": 22,
   "id": "a1c70635",
   "metadata": {},
   "outputs": [],
   "source": [
    "#Q.16- Variables that \"contain\" list values are not necessarily lists themselves. Instead, what do they contain?\n",
    "\n",
    "#Solution- Variables will contain references(reserved memory location) to list values rather than list values themselves."
   ]
  },
  {
   "cell_type": "code",
   "execution_count": 23,
   "id": "dfb5ab21",
   "metadata": {},
   "outputs": [],
   "source": [
    "#Q.17- How do you distinguish between copy.copy() and copy.deepcopy()?\n",
    "\n",
    "#Solution- 'copy()' create reference to original object. If you change copied object, you change the original object.\n",
    "#          'deepcopy()' creates new object and does real copying of original object to new one.\n",
    "#           Changing new deepcopied object doesn't affect original object."
   ]
  },
  {
   "cell_type": "code",
   "execution_count": null,
   "id": "0ea54a5b",
   "metadata": {},
   "outputs": [],
   "source": []
  }
 ],
 "metadata": {
  "kernelspec": {
   "display_name": "Python 3",
   "language": "python",
   "name": "python3"
  },
  "language_info": {
   "codemirror_mode": {
    "name": "ipython",
    "version": 3
   },
   "file_extension": ".py",
   "mimetype": "text/x-python",
   "name": "python",
   "nbconvert_exporter": "python",
   "pygments_lexer": "ipython3",
   "version": "3.8.8"
  }
 },
 "nbformat": 4,
 "nbformat_minor": 5
}
