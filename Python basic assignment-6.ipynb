{
 "cells": [
  {
   "cell_type": "code",
   "execution_count": 1,
   "id": "1f40bbce",
   "metadata": {},
   "outputs": [],
   "source": [
    "#Q.1- What are escape characters, and how do you use them?\n",
    "\n",
    "#Solution- The programmers refer to the \"backslash (\\)\" character as an escape character.\n",
    "#          In other words, it has a special meaning when we use it inside the strings.\n",
    "#          In Python strings, the backslash “\\” is a special character, also called the “escape” character,\n",
    "#           which can be used as a prefix just before the character we want to escape for a brief moment to introduce unique inclusion."
   ]
  },
  {
   "cell_type": "code",
   "execution_count": 2,
   "id": "c62c5d53",
   "metadata": {},
   "outputs": [],
   "source": [
    "#Q.2- What do the escape characters n and t stand for?\n",
    "\n",
    "#Solution- '\\n' is newline\n",
    "#          '\\t' is a tab or indent."
   ]
  },
  {
   "cell_type": "code",
   "execution_count": 3,
   "id": "c21e880f",
   "metadata": {},
   "outputs": [],
   "source": [
    "#Q.3- What is the way to include backslash characters in a string?\n",
    "\n",
    "#Solution- We need to include backslash characters in a string by using the '\\' escape character."
   ]
  },
  {
   "cell_type": "code",
   "execution_count": 4,
   "id": "9da5087c",
   "metadata": {},
   "outputs": [],
   "source": [
    "#Q.4- The string \"Howl's Moving Castle\" is a correct value. Why isn't the single quote character in the word Howl's not escaped a problem?\n",
    "\n",
    "#Solution- The single quote character in the word Howl's not escaped is not a problem because double quotes have been used to mark the beginning and end of the given string."
   ]
  },
  {
   "cell_type": "code",
   "execution_count": 5,
   "id": "79147bed",
   "metadata": {},
   "outputs": [],
   "source": [
    "#Q.5- How do you write a string of newlines if you don't want to use the n character?\n",
    "\n",
    "#Solution- We can write a string of newlines by using multiline print strings command. Also we can use triple quotes \n",
    "#          and give indents and newlines as desired, which will be print as it is."
   ]
  },
  {
   "cell_type": "code",
   "execution_count": 6,
   "id": "9dbb4fc6",
   "metadata": {},
   "outputs": [
    {
     "name": "stdout",
     "output_type": "stream",
     "text": [
      "'Hello, world!'[1]  will give--  e\n",
      "'Hello, world!'[0:5]  will give--  Hello\n",
      "'Hello, world!'[:5]  will give--  Hello\n",
      "'Hello, world!'[3:]  will give--  lo, world!\n"
     ]
    }
   ],
   "source": [
    "#Q.6- What are the values of the given expressions?\n",
    "#'Hello, world!'[1]\n",
    "#'Hello, world!'[0:5]\n",
    "#'Hello, world!'[:5]\n",
    "#'Hello, world!'[3:]\n",
    "\n",
    "#Solution-\n",
    "#'Hello, world!'[1] -- 'e'\n",
    "print(\"'Hello, world!'[1]\",\" will give-- \",'Hello, world!'[1])\n",
    "#'Hello, world!'[0:5] -- 'Hello'\n",
    "print(\"'Hello, world!'[0:5]\",\" will give-- \",'Hello, world!'[0:5])\n",
    "#'Hello, world!'[:5] -- 'Hello'\n",
    "print(\"'Hello, world!'[:5]\",\" will give-- \",'Hello, world!'[:5])\n",
    "#'Hello, world!'[3:] -- 'lo, world!'\n",
    "print(\"'Hello, world!'[3:]\",\" will give-- \",'Hello, world!'[3:])"
   ]
  },
  {
   "cell_type": "code",
   "execution_count": 7,
   "id": "74a85535",
   "metadata": {},
   "outputs": [
    {
     "name": "stdout",
     "output_type": "stream",
     "text": [
      "'Hello'.upper()  will give--  HELLO\n",
      "'Hello'.upper().isupper()  will give--  True\n",
      "'Hello'.upper().lower()  will give--  hello\n"
     ]
    }
   ],
   "source": [
    "#Q.7- What are the values of the following expressions?\n",
    "#     'Hello'.upper()\n",
    "#     'Hello'.upper().isupper()\n",
    "#     'Hello'.upper().lower()\n",
    "\n",
    "#Solution- \n",
    "#'Hello'.upper() -- 'HELLO'\n",
    "print(\"'Hello'.upper()\",\" will give-- \",'Hello'.upper())\n",
    "\n",
    "#'Hello'.upper().isupper() -- 'True'\n",
    "print(\"'Hello'.upper().isupper()\",\" will give-- \",'Hello'.upper().isupper())\n",
    "\n",
    "#'Hello'.upper().lower() -- 'hello'\n",
    "print(\"'Hello'.upper().lower()\",\" will give-- \",'Hello'.upper().lower())"
   ]
  },
  {
   "cell_type": "code",
   "execution_count": 8,
   "id": "98a03133",
   "metadata": {},
   "outputs": [
    {
     "name": "stdout",
     "output_type": "stream",
     "text": [
      "'Remember, remember, the fifth of July.'.split() will give--  ['Remember,', 'remember,', 'the', 'fifth', 'of', 'July.']\n",
      " '-'.join('There can only one.'.split()) will give--  There-can-only-one.\n"
     ]
    }
   ],
   "source": [
    "#Q.8- What are the values of the following expressions?\n",
    "#    'Remember, remember, the fifth of July.'.split()\n",
    "#    '-'.join('There can only one.'.split())\n",
    "\n",
    "#Solution- \n",
    "#    'Remember, remember, the fifth of July.'.split() -- ['Remember,', 'remember,', 'the', 'fifth', 'of', 'July.']\n",
    "print(\"'Remember, remember, the fifth of July.'.split() will give-- \",'Remember, remember, the fifth of July.'.split())\n",
    "\n",
    "#    '-'.join('There can only one.'.split()) -- There-can-only-one.\n",
    "print(\" '-'.join('There can only one.'.split()) will give-- \", '-'.join('There can only one.'.split()))"
   ]
  },
  {
   "cell_type": "code",
   "execution_count": 9,
   "id": "409d8b3c",
   "metadata": {},
   "outputs": [],
   "source": [
    "#Q.9- What are the methods for right-justifying, left-justifying, and centering a string?\n",
    "\n",
    "#Solution- For right justifying a string, we can use rjust() string method.\n",
    "#          Ex. string.rjust(20,' ')\n",
    "#          For left justifying a string, we can use ljust() string method.\n",
    "#          Ex. string.ljust(20,' ')\n",
    "#          For centering a string, we can use center() string method.\n",
    "#          Ex. string.center(20)"
   ]
  },
  {
   "cell_type": "code",
   "execution_count": 10,
   "id": "c83f0d6b",
   "metadata": {},
   "outputs": [],
   "source": [
    "#Q.10- What is the best way to remove whitespace characters from the start or end?\n",
    "\n",
    "#Solution- The lstrip() and rstrip() methods can be used to remove whitespaces from the left and right ends of a string, respectively."
   ]
  },
  {
   "cell_type": "code",
   "execution_count": null,
   "id": "14426f11",
   "metadata": {},
   "outputs": [],
   "source": []
  }
 ],
 "metadata": {
  "kernelspec": {
   "display_name": "Python 3",
   "language": "python",
   "name": "python3"
  },
  "language_info": {
   "codemirror_mode": {
    "name": "ipython",
    "version": 3
   },
   "file_extension": ".py",
   "mimetype": "text/x-python",
   "name": "python",
   "nbconvert_exporter": "python",
   "pygments_lexer": "ipython3",
   "version": "3.8.8"
  }
 },
 "nbformat": 4,
 "nbformat_minor": 5
}
